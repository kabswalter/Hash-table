{
 "cells": [
  {
   "cell_type": "code",
   "execution_count": 15,
   "metadata": {},
   "outputs": [
    {
     "name": "stdout",
     "output_type": "stream",
     "text": [
      "the hash is: 8385525641899351004\n"
     ]
    }
   ],
   "source": [
    "class Student:\n",
    "    def __init__(self, stdno, name):\n",
    "        self.stdno = stdno\n",
    "        self.name = name\n",
    "        \n",
    "    def __eq__(self, other):\n",
    "        return self.stdno == other.stdno and self.name == other.name\n",
    "    \n",
    "    def __hash__(self): \n",
    "        return hash((self.stdno, self.name))\n",
    "    \n",
    "student = Student(19, 'Walter')\n",
    "print(\"the hash is: %d\" % hash(student))"
   ]
  },
  {
   "cell_type": "markdown",
   "metadata": {},
   "source": [
    "in the code above we defined a hash() function for custom objects.\n",
    "* it is worth to notice that mutable collections are not hashable\n",
    "* hashable implementation should be done for the mutable collecctions as keys of the collections should be mutable for hashing."
   ]
  },
  {
   "cell_type": "markdown",
   "metadata": {},
   "source": [
    "A hash() function returns the hash value of the object if it has one.\n",
    "\n",
    "A good hash function is the one function which results in the least number of collisions, meaning, no two sets of information should have the same hash values"
   ]
  },
  {
   "cell_type": "markdown",
   "metadata": {},
   "source": [
    "* if the __eq__() function is defined, the __hash__() function should not be defined. (implementation of the hashable collection requires key's hash value be immutable\n",
    "* if the __eq__() function is not defined, the __hash__() funchion should not be defined as well\n",
    "* if the __eq__() function is defined and the __hash__() function not defined, class instaces will not be usable as a hashable collection. the __hash__() implicity is set to None. this raises TypeError exception if tried to retireve the hash."
   ]
  },
  {
   "cell_type": "markdown",
   "metadata": {},
   "source": [
    "only immutable objects can be hashed.\n",
    "if the mutable object is allowed to be hashed, an update of the hash table will have to be updated everytime the value of the object updates. this means that the object will have to be moved ti a completely different bucket.\n",
    "* in python only __dictionaries__ and __sets__ are the 2 objects that use hash tables."
   ]
  },
  {
   "cell_type": "code",
   "execution_count": 20,
   "metadata": {},
   "outputs": [
    {
     "name": "stdout",
     "output_type": "stream",
     "text": [
      "1: 8533263536511375399\n",
      "2: 8533263536511375399\n"
     ]
    }
   ],
   "source": [
    "utamu = \"Student\"\n",
    "\n",
    "hash1 = hash(utamu)\n",
    "hash2 = hash(utamu)\n",
    "\n",
    "print(\"1: %s\"% hash1)\n",
    "print(\"2: %s\"% hash2)"
   ]
  },
  {
   "cell_type": "code",
   "execution_count": null,
   "metadata": {},
   "outputs": [],
   "source": []
  }
 ],
 "metadata": {
  "kernelspec": {
   "display_name": "Python 3",
   "language": "python",
   "name": "python3"
  },
  "language_info": {
   "codemirror_mode": {
    "name": "ipython",
    "version": 3
   },
   "file_extension": ".py",
   "mimetype": "text/x-python",
   "name": "python",
   "nbconvert_exporter": "python",
   "pygments_lexer": "ipython3",
   "version": "3.7.3"
  }
 },
 "nbformat": 4,
 "nbformat_minor": 2
}
